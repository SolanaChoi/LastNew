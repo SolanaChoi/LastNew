{
 "cells": [
  {
   "cell_type": "markdown",
   "id": "988b965c",
   "metadata": {},
   "source": [
    "### [문제]\n",
    "- 세션ID 생성\n",
    "- 세션별 대화 기록을 store에 임시 저장 : {}\n",
    "- ChatPromptTemplate() : 역할 부여\n",
    "- InMemoryChatMessageHistory() 생성\n",
    "- RunnableWithMessageHistory() 생성\n",
    "- chain 구성"
   ]
  },
  {
   "cell_type": "markdown",
   "id": "e0dbca48",
   "metadata": {},
   "source": [
    "### [문제] 기존 String PromptTemplate을 ChatPromptTemplate으로 변경\n",
    "- Chain\n",
    "- prompt template: 직접 작성\n",
    "                   문서를 참고해서, 사용자 질문에 답변"
   ]
  },
  {
   "cell_type": "code",
   "execution_count": 70,
   "id": "449a8ec4",
   "metadata": {},
   "outputs": [
    {
     "name": "stdout",
     "output_type": "stream",
     "text": [
      "\n",
      "남녀고용평등과 일ㆍ가정 양립 지원에 관한 법률 ( 약칭: 남녀고용평등법 )\n",
      "[시행 2025. 2. 23.] [법률 제20521호, 2024. 10. 22., 일부개정]\n",
      "\n",
      "고용노동부(여성고용정책과) 044-202-7476\n",
      "\n",
      "       제1장 총칙 <개정 2007. 12. 21.>\n",
      "제1조(목적) 이 법은 「대한민국헌법」의 평등이념에 따라 고용에서 남녀의 평등한 기회와 대우를 보장하고 모성 보호와 여성 고용을 촉진하여 남녀고용평등을 실현함과 아울러 근로자의 일과 가정의 양립을 지원함으로써 모든 국민의 삶의 질 향상에 이바지하는 것을\n"
     ]
    },
    {
     "data": {
      "text/plain": [
       "ChatPromptTemplate(input_variables=['chat_history', 'law', 'query'], input_types={}, partial_variables={}, messages=[HumanMessagePromptTemplate(prompt=PromptTemplate(input_variables=['chat_history', 'law', 'query'], input_types={}, partial_variables={}, template='다음 문서를 참고하여, 사용자 질문에 답변합니다. \\n 문서 내용을 기반으로 답변하고, 해당 조항도 표시합니다. \\n-문서: {law}\\n-질문: {query}\\n-히스토리: {chat_history}\\n'), additional_kwargs={})])"
      ]
     },
     "execution_count": 70,
     "metadata": {},
     "output_type": "execute_result"
    }
   ],
   "source": [
    "#1. 모듈(파일, 라이브러리) 로드\n",
    "from langchain_openai import ChatOpenAI\n",
    "from langchain.callbacks.streaming_stdout import StreamingStdOutCallbackHandler\n",
    "from langchain_core.chat_history import InMemoryChatMessageHistory, BaseChatMessageHistory\n",
    "from langchain_core.runnables import RunnableWithMessageHistory\n",
    "from langchain_core.prompts import ChatPromptTemplate, PromptTemplate\n",
    "from dotenv import load_dotenv\n",
    "\n",
    "#2. 환경변수 로드\n",
    "load_dotenv()\n",
    "\n",
    "#3. 파일 로드\n",
    "file_name = '남녀고용평등과 일ㆍ가정 양립 지원에 관한 법률(법률)(제20521호)(20250223).txt'\n",
    "with open(file_name, 'r', encoding='utf-8') as file:\n",
    "    law = file.read()\n",
    "    print(law[:300])\n",
    "    \n",
    "#4. 프롬프트템플릿 생성\n",
    "template = '''다음 문서를 참고하여, 사용자 질문에 답변합니다. \\n 문서 내용을 기반으로 답변하고, 해당 조항도 표시합니다. \n",
    "-문서: {law}\n",
    "-질문: {query}\n",
    "-히스토리: {chat_history}\n",
    "'''\n",
    "prompt = ChatPromptTemplate.from_template(template)\n",
    "\n",
    "#5. 챗오픈ai 모델 생성    \n",
    "llm = ChatOpenAI(\n",
    "    model='gpt-4.1-nano', streaming=True,\n",
    "    callbacks=[StreamingStdOutCallbackHandler()],\n",
    ")\n",
    "\n",
    "prompt"
   ]
  },
  {
   "cell_type": "code",
   "execution_count": 69,
   "id": "9842140a",
   "metadata": {},
   "outputs": [
    {
     "name": "stdout",
     "output_type": "stream",
     "text": [
      "네, 남성 근로자도 육아휴직을 신청할 수 있습니다. (제19조(육아휴직) 및 제19조의4(육아휴직 분할 사용))"
     ]
    },
    {
     "data": {
      "text/plain": [
       "AIMessage(content='네, 남성 근로자도 육아휴직을 신청할 수 있습니다. (제19조(육아휴직) 및 제19조의4(육아휴직 분할 사용))', additional_kwargs={}, response_metadata={'finish_reason': 'stop', 'model_name': 'gpt-4.1-nano-2025-04-14', 'system_fingerprint': 'fp_eede8f0d45'}, id='run--a9935c11-848c-4189-9dcf-6efc62002b7a-0')"
      ]
     },
     "execution_count": 69,
     "metadata": {},
     "output_type": "execute_result"
    }
   ],
   "source": [
    "#6. 체인 구성\n",
    "chain = prompt | llm\n",
    "\n",
    "#7. 은 히스토리 변수 지정인데 굳이 불필요할듯\n",
    "\n",
    "\n",
    "#8. 함수 정의- 대화이력(히스토리)인스턴스 리턴\n",
    "store = {}\n",
    "\n",
    "def get_session_history(session_id:str) -> BaseChatMessageHistory:\n",
    "\tif session_id not in store :\n",
    "\t\tstore[session_id] = InMemoryChatMessageHistory()\n",
    "\treturn store[session_id]\n",
    "\n",
    "#9. 질문 받기 \n",
    "query = input('질문을 입력하세요...')\n",
    "\n",
    "#10. 체인에 대화 히스토리 기능 래핑\n",
    "wr_chain = RunnableWithMessageHistory(\n",
    "\tchain,\n",
    "\tget_session_history,\n",
    "    input_messages_key='query',\n",
    "\thistory_messages_key='chat_history'\n",
    "\t)\n",
    "\n",
    "#11. 실행\n",
    "wr_chain.invoke(\n",
    "\t{'law': law, 'query': query},\n",
    "\tconfig={'configurable':{'session_id':'솔라나'}}\n",
    ")"
   ]
  },
  {
   "cell_type": "code",
   "execution_count": 57,
   "id": "7550d258",
   "metadata": {},
   "outputs": [],
   "source": [
    "# prompt = PromptTemplate.from_template(template=template) =====> 😉휴먼메시지,ai메시지 분리없이 드감 \n",
    "# prompt = ChatPromptTemplate.from_messages(template)  ====> 😫에러이실게요~!\n",
    "# prompt"
   ]
  },
  {
   "cell_type": "code",
   "execution_count": 58,
   "id": "93ac240c",
   "metadata": {},
   "outputs": [
    {
     "data": {
      "text/plain": [
       "2"
      ]
     },
     "execution_count": 58,
     "metadata": {},
     "output_type": "execute_result"
    }
   ],
   "source": [
    "len(store)"
   ]
  },
  {
   "cell_type": "code",
   "execution_count": 59,
   "id": "72131d7d",
   "metadata": {},
   "outputs": [
    {
     "data": {
      "text/plain": [
       "InMemoryChatMessageHistory(messages=[HumanMessage(content='육아휴직은 남성도 쓸 수 있나?', additional_kwargs={}, response_metadata={}), AIMessage(content='네, 육아휴직은 남성 근로자도 사용할 수 있습니다. 남녀고용평등법 제19조(육아휴직)에 따르면, 사업주는 임신 중인 여성 근로자가 모성을 보호하기 위하여, 또는 만 8세 이하 또는 초등학교 2학년 이하 자녀를 양육하기 위하여 휴직을 신청하는 경우 이를 허용하여야 합니다. 이는 성별에 관계없이 자녀를 양육하는 근로자가 육아휴직을 신청할 수 있다는 의미입니다. \\n\\n또한, 남성 근로자가 배우자의 출산을 이유로 휴가(배우자 출산휴가)를 사용하는 것도 가능하며, 제18조의2에 따라 배우자 출산휴가를 20일 동안 유급으로 사용할 수 있습니다. \\n\\n즉, 육아휴직은 주로 여성에게 권장되지만, 법률상 남성 근로자가 자녀 양육을 위해 신청할 수 있는 제도적 권리가 명시되어 있습니다.\\n\\n관련 조항:\\n- 제19조(육아휴직) : \"사업주는 임신 중인 여성 근로자가 모성을 보호하거나 근로자가 만 8세 이하 또는 초등학교 2학년 이하의 자녀를 양육하기 위하여 휴직을 신청하는 경우에 이를 허용하여야 한다.\"', additional_kwargs={}, response_metadata={'finish_reason': 'stop', 'model_name': 'gpt-4.1-nano-2025-04-14', 'system_fingerprint': 'fp_17d1f82c3e'}, id='run--9ca7a253-7eaf-4afc-b60c-161d273da5fd-0')])"
      ]
     },
     "execution_count": 59,
     "metadata": {},
     "output_type": "execute_result"
    }
   ],
   "source": [
    "get_session_history('솔라나')"
   ]
  },
  {
   "cell_type": "code",
   "execution_count": 60,
   "id": "81dce549",
   "metadata": {},
   "outputs": [
    {
     "data": {
      "text/plain": [
       "2"
      ]
     },
     "execution_count": 60,
     "metadata": {},
     "output_type": "execute_result"
    }
   ],
   "source": [
    "len(store)\n"
   ]
  }
 ],
 "metadata": {
  "kernelspec": {
   "display_name": "project",
   "language": "python",
   "name": "python3"
  },
  "language_info": {
   "codemirror_mode": {
    "name": "ipython",
    "version": 3
   },
   "file_extension": ".py",
   "mimetype": "text/x-python",
   "name": "python",
   "nbconvert_exporter": "python",
   "pygments_lexer": "ipython3",
   "version": "3.13.2"
  }
 },
 "nbformat": 4,
 "nbformat_minor": 5
}
