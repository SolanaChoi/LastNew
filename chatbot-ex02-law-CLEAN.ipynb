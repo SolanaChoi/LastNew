{
 "cells": [
  {
   "cell_type": "markdown",
   "id": "a88b5bb7",
   "metadata": {},
   "source": [
    "[문제] Managing Conversation History\n",
    "- trim_messages()\n",
    "- RunnablePassthrough \n",
    "- itemgetter()\n",
    "\n",
    "세션ID 설정하고, 대화를 진행합니다. (multi-turn conversation) \n",
    "LLM 모델이 과거 대화를 알지(기억) 못하는 상황을 만드세요."
   ]
  },
  {
   "cell_type": "code",
   "execution_count": 14,
   "id": "f93d76b8",
   "metadata": {},
   "outputs": [],
   "source": [
    "## 1. 모듈(파일, 라이브러리) 읽어오기\n",
    "from langchain_core.runnables.history import RunnableWithMessageHistory\n",
    "from langchain_core.chat_history import InMemoryChatMessageHistory, BaseChatMessageHistory\n",
    "from langchain_core.prompts import ChatPromptTemplate\n",
    "from langchain.callbacks.streaming_stdout import StreamingStdOutCallbackHandler\n",
    "from langchain_openai import ChatOpenAI\n",
    "from langchain_core.messages import trim_messages\n",
    "\n",
    "from dotenv import load_dotenv\n",
    "\n",
    "\n",
    "## 2. 환경변수에 설정된 값 읽어오기\n",
    "load_dotenv()\n",
    "\n",
    "## 3. 파일 읽기\n",
    "file_name = '남녀고용평등과 일ㆍ가정 양립 지원에 관한 법률(법률)(제20521호)(20250223).txt'\n",
    "\n",
    "with open(file_name, 'r', encoding='utf-8') as file:\n",
    "    law = file.read()\n",
    "    law = law[:2000]\n",
    "## 4. prompt 생성\n",
    "template = [\n",
    "    ('system', '''당신은 육아휴직 법률 전문가입니다.\n",
    "     아래 문서를 참고하여, 사용자 질문에 성실하게 답변합니다.\n",
    "     답변은 문서 내용을 기반으로 하되, 해당 조항도 표시합니다.\n",
    "     - 문서: {law}'''),\n",
    "     ('placeholder', '{chat_history}'),\n",
    "    ('user', '{query}')\n",
    "]\n",
    "\n",
    "prompt = ChatPromptTemplate.from_messages(template)\n"
   ]
  },
  {
   "cell_type": "code",
   "execution_count": 15,
   "id": "8641865f",
   "metadata": {},
   "outputs": [
    {
     "data": {
      "text/plain": [
       "RunnableAssign(mapper={\n",
       "  chat_history: RunnableLambda(itemgetter('chat_history'))\n",
       "})\n",
       "| ChatPromptTemplate(input_variables=['law', 'query'], optional_variables=['chat_history'], input_types={'chat_history': list[typing.Annotated[typing.Union[typing.Annotated[langchain_core.messages.ai.AIMessage, Tag(tag='ai')], typing.Annotated[langchain_core.messages.human.HumanMessage, Tag(tag='human')], typing.Annotated[langchain_core.messages.chat.ChatMessage, Tag(tag='chat')], typing.Annotated[langchain_core.messages.system.SystemMessage, Tag(tag='system')], typing.Annotated[langchain_core.messages.function.FunctionMessage, Tag(tag='function')], typing.Annotated[langchain_core.messages.tool.ToolMessage, Tag(tag='tool')], typing.Annotated[langchain_core.messages.ai.AIMessageChunk, Tag(tag='AIMessageChunk')], typing.Annotated[langchain_core.messages.human.HumanMessageChunk, Tag(tag='HumanMessageChunk')], typing.Annotated[langchain_core.messages.chat.ChatMessageChunk, Tag(tag='ChatMessageChunk')], typing.Annotated[langchain_core.messages.system.SystemMessageChunk, Tag(tag='SystemMessageChunk')], typing.Annotated[langchain_core.messages.function.FunctionMessageChunk, Tag(tag='FunctionMessageChunk')], typing.Annotated[langchain_core.messages.tool.ToolMessageChunk, Tag(tag='ToolMessageChunk')]], FieldInfo(annotation=NoneType, required=True, discriminator=Discriminator(discriminator=<function _get_type at 0x000002B135313A60>, custom_error_type=None, custom_error_message=None, custom_error_context=None))]]}, partial_variables={'chat_history': []}, messages=[SystemMessagePromptTemplate(prompt=PromptTemplate(input_variables=['law'], input_types={}, partial_variables={}, template='당신은 육아휴직 법률 전문가입니다.\\n     아래 문서를 참고하여, 사용자 질문에 성실하게 답변합니다.\\n     답변은 문서 내용을 기반으로 하되, 해당 조항도 표시합니다.\\n     - 문서: {law}'), additional_kwargs={}), MessagesPlaceholder(variable_name='chat_history', optional=True), HumanMessagePromptTemplate(prompt=PromptTemplate(input_variables=['query'], input_types={}, partial_variables={}, template='{query}'), additional_kwargs={})])\n",
       "| ChatOpenAI(callbacks=[<langchain_core.callbacks.streaming_stdout.StreamingStdOutCallbackHandler object at 0x000002B13AF53230>], client=<openai.resources.chat.completions.completions.Completions object at 0x000002B13D4E3CE0>, async_client=<openai.resources.chat.completions.completions.AsyncCompletions object at 0x000002B13D4EBCE0>, root_client=<openai.OpenAI object at 0x000002B13D4CD950>, root_async_client=<openai.AsyncOpenAI object at 0x000002B13D4CDA90>, model_kwargs={}, openai_api_key=SecretStr('**********'), streaming=True, max_tokens=300)"
      ]
     },
     "execution_count": 15,
     "metadata": {},
     "output_type": "execute_result"
    }
   ],
   "source": [
    "\n",
    "## 5. ChatOpenAI 인스턴스 생성\n",
    "llm = ChatOpenAI(\n",
    "    model='gpt-3.5-turbo',\n",
    "    streaming=True,\n",
    "    callbacks=[StreamingStdOutCallbackHandler()],\n",
    "    max_tokens=300,\n",
    ")\n",
    "\n",
    "## 6-1. trim 설정 \n",
    "trimmer = trim_messages(\n",
    "    max_token = 65,\n",
    "    strategy = 'last',\n",
    "    token_counter = llm,\n",
    "    include_system = True,\n",
    "    allow_partial = False,\n",
    "    start_on = 'human',   #HumanMessage부터 자르기 시작 \n",
    ")\n",
    "\n",
    "\n",
    "from langchain_core.runnables import RunnablePassthrough\n",
    "from operator import itemgetter\n",
    "\n",
    "## 6-2. chain 구성\n",
    "chain = (RunnablePassthrough.assign(chat_history=itemgetter('chat_history'))\n",
    "    | prompt \n",
    "    | llm)\n",
    "\n",
    "chain\n"
   ]
  },
  {
   "cell_type": "code",
   "execution_count": null,
   "id": "dc042cc7",
   "metadata": {},
   "outputs": [],
   "source": [
    "\n",
    "## 7. 세션별 대화 이력(히스토리)을 저장할 임시 메모리 저장소\n",
    "store = {}\n",
    "\n",
    "## 8. 함수 정의: 대화 이력(히스토리) 인스턴스 리턴\n",
    "def get_history(session_id: str) -> BaseChatMessageHistory:\n",
    "    if session_id not in store:\n",
    "        store[session_id] = InMemoryChatMessageHistory()\n",
    "    return store[session_id]\n",
    "\n",
    "\n",
    "## 10. chain에 대화 이력(히스토리) 기능을 래핑해서 추가\n",
    "with_message_history = RunnableWithMessageHistory(\n",
    "    chain,\n",
    "    get_history,\n",
    "    history_messages_key='chat_history',\n",
    "    input_messages_key='query',\n",
    ")\n",
    "\n",
    "## 11. 실행\n",
    "while True:\n",
    "    query = input('질문 입력하세요. 종료하려면 s 입력>> ')\n",
    "    if query.upper() == 'S':\n",
    "        break     \n",
    "    with_message_history.invoke(\n",
    "        {'law': law, 'query': query},\n",
    "        config={'configurable': {'session_id': 'ywgw'}}\n",
    "    )\n",
    "    print('\\n'+ '='*50 + '\\n')"
   ]
  },
  {
   "cell_type": "code",
   "execution_count": null,
   "id": "7a62d08a",
   "metadata": {},
   "outputs": [
    {
     "data": {
      "text/plain": [
       "[HumanMessage(content='육아휴직 남성도 사용 가능?', additional_kwargs={}, response_metadata={}),\n",
       " AIMessage(content='네, 남성도 육아휴직을 사용할 수 있습니다.\\n\\n「남녀고용평등법」 제75조(육아휴직)에 따르면, \"여자 근로자가 출산 또는 양육을 위하여 휴직하고자 하는 경우에는 이 법 제74조에 따른 육아휴직을 사용할 수 있다.\"고 되어 있습니다. 이에 따라 육아휴직은 여성 뿐만 아니라 남성도 사용할 수 있는 제도입니다.\\n\\n또한, 남성의 육아휴직에 관한 부분은 「고용보험법」, 「육아휴직 등 요건 자구 등에 관한 규칙」에서도 상세하게 규정하고 있으니, 해당 법령을 함께 참고하시면 도움이 될 것입니다.', additional_kwargs={}, response_metadata={'finish_reason': 'stop', 'model_name': 'gpt-3.5-turbo-0125'}, id='run--71e49d71-2491-4afc-9138-5da6c3084f0f-0'),\n",
       " HumanMessage(content='육아휴직 기간은?', additional_kwargs={}, response_metadata={}),\n",
       " AIMessage(content='육아휴직의 기간은 「고용보험법 시행령」 제21조에 따라서 다음과 같이 정해져 있습니다.\\n\\n1. 만 6세 이하 자녀 1명을 양육하는 근로자: 1년\\n2. 만 6세 이하 자녀 2명을 양육하는 근로자: 추가로 6개월\\n3. 만 6세 이하 자녀 3명을 양육하는 근로자: 추가로 6개월\\n\\n따라서, 만 6세 이하 자녀를 양육하는 근로자는 총 최대 1년 6개월 동안 육아휴직을 사용할 수 있습니다.', additional_kwargs={}, response_metadata={'finish_reason': 'stop', 'model_name': 'gpt-3.5-turbo-0125'}, id='run--702bcf0c-13bf-445e-9cc7-5ca2c3814c36-0'),\n",
       " HumanMessage(content='육아휴직 조건은 뭔데?', additional_kwargs={}, response_metadata={}),\n",
       " AIMessage(content='육아휴직을 신청하기 위한 주요 조건은 다음과 같습니다.\\n\\n1. 자녀: 만 6세 이하의 자녀를 양육하는 근로자\\n2. 근로기간: 현재 근무 중인 회사에서 1년 이상 근무한 근로자\\n3. 근로계약: 육아휴직을 신청할 때에도 근로계약을 유지해야 함\\n4. 사업주 통보: 육아휴직을 신청하려는 날로부터 30일 전에 사업주에게 휴직 계획을 통보해야 함\\n\\n이러한 조건을 충족하는 근로자는 육아휴직을 신청하여 사용할 수 있습니다. 추가적으로 「고용보험법」, 「육아휴직 등 요건 자구 등에 관한 규칙」에 따라 세부적인 조건이나 절차가 있을 수 있', additional_kwargs={}, response_metadata={'finish_reason': 'length', 'model_name': 'gpt-3.5-turbo-0125'}, id='run--51199ba5-0fbb-4d68-9d0f-652558874b4c-0'),\n",
       " HumanMessage(content='육아휴직 수당은 얼마인데', additional_kwargs={}, response_metadata={}),\n",
       " AIMessage(content='육아휴직 수당은 근로기준법에 따라 지급되며, 수당 지급액은 월급액의 40%로 정해져 있습니다.\\n\\n다만, 육아휴직을 통해 지급받는 수당은 고용보험의 산정 기준에 따라서 차등이 있을 수 있습니다. 따라서 실제 수당 지급액은 해당 근로자의 고용보험 납부액과 다른 요소들에 따라 달라질 수 있습니다.\\n\\n또한, 육아휴직 수당 지급에 대한 세부사항은 근로기준법 및 고용보험법 등 관련 법령을 참고하시면 도움이 될 것입니다.', additional_kwargs={}, response_metadata={'finish_reason': 'stop', 'model_name': 'gpt-3.5-turbo-0125'}, id='run--09c652a2-b041-4f07-a34c-30d644561510-0'),\n",
       " HumanMessage(content='지금까지의 질문과 답변 정리해줘', additional_kwargs={}, response_metadata={}),\n",
       " AIMessage(content='1. 육아휴직 남성도 사용 가능?\\n- 남성도 육아휴직을 사용할 수 있습니다. 「남녀고용평등법」 제75조에 따라 여성뿐만 아니라 남성도 육아휴직을 신청할 수 있습니다.\\n\\n2. 육아휴직 기간은?\\n- 육아휴직의 기간은 만 6세 이하의 자녀를 양육하는 근로자는 최대 1년 6개월 동안 사용할 수 있습니다.\\n\\n3. 육아휴직 조건은?\\n- 육아휴직을 신청하기 위한 주요 조건은 만 6세 이하의 자녀를 양육하는 근로자이며, 1년 이상 현재 근무 중인 근로자이어야 하고 휴직 계획을 사업주에게 30일 전에 통보해야 합니다.\\n\\n4. 육아휴직 수당은 얼마인가요?\\n-', additional_kwargs={}, response_metadata={'finish_reason': 'length', 'model_name': 'gpt-3.5-turbo-0125'}, id='run--037760b7-61d0-42e5-b807-977407f51d80-0')]"
      ]
     },
     "execution_count": 19,
     "metadata": {},
     "output_type": "execute_result"
    }
   ],
   "source": [
    "messages_list = get_history('ywgw').messages\n",
    "messages_list\n",
    "for m in messages_list:\n",
    "    print(f'{m.type.upper()}=====',m.content)"
   ]
  },
  {
   "cell_type": "code",
   "execution_count": null,
   "id": "a70eddc5",
   "metadata": {},
   "outputs": [
    {
     "name": "stdout",
     "output_type": "stream",
     "text": [
      "Variable                         Type                          Data/Info\n",
      "------------------------------------------------------------------------\n",
      "BaseChatMessageHistory           ABCMeta                       <class 'langchain_core.ch<...>.BaseChatMessageHistory'>\n",
      "ChatOpenAI                       ModelMetaclass                <class 'langchain_openai.<...>_models.base.ChatOpenAI'>\n",
      "ChatPromptTemplate               ModelMetaclass                <class 'langchain_core.pr<...>chat.ChatPromptTemplate'>\n",
      "InMemoryChatMessageHistory       ModelMetaclass                <class 'langchain_core.ch<...>emoryChatMessageHistory'>\n",
      "RunnableWithMessageHistory       ModelMetaclass                <class 'langchain_core.ru<...>nableWithMessageHistory'>\n",
      "StreamingStdOutCallbackHandler   type                          <class 'langchain_core.ca<...>ngStdOutCallbackHandler'>\n",
      "chain                            RunnableSequence              first=ChatPromptTemplate(<...>******'), streaming=True)\n",
      "file                             TextIOWrapper                 <_io.TextIOWrapper name='<...>ode='r' encoding='utf-8'>\n",
      "file_name                        str                           남녀고용평등과 일ㆍ가정 양립 지원에 관한 법률<...>률)(제20521호)(20250223).txt\n",
      "get_history                      function                      <function get_history at 0x000001FB01C68220>\n",
      "law                              str                           ﻿\\n남녀고용평등과 일ㆍ가정 양립 지원에 관한<...> 남아있는 육아휴직 기간에 대해서만 적용한다.\n",
      "llm                              ChatOpenAI                    callbacks=[<langchain_cor<...>********') streaming=True\n",
      "load_dotenv                      function                      <function load_dotenv at 0x000001FB01C29BC0>\n",
      "prompt                           ChatPromptTemplate            input_variables=['law', '<...>), additional_kwargs={})]\n",
      "query                            str                           육아휴직은 남성도 사용 가능한가?\n",
      "store                            dict                          n=1\n",
      "template                         list                          n=3\n",
      "with_message_history             RunnableWithMessageHistory    bound=RunnableBinding(bou<...>True, dependencies=None)]\n"
     ]
    }
   ],
   "source": [
    "%whos"
   ]
  }
 ],
 "metadata": {
  "kernelspec": {
   "display_name": "project",
   "language": "python",
   "name": "python3"
  },
  "language_info": {
   "codemirror_mode": {
    "name": "ipython",
    "version": 3
   },
   "file_extension": ".py",
   "mimetype": "text/x-python",
   "name": "python",
   "nbconvert_exporter": "python",
   "pygments_lexer": "ipython3",
   "version": "3.13.2"
  }
 },
 "nbformat": 4,
 "nbformat_minor": 5
}
