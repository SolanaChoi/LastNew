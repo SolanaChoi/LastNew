{
 "cells": [
  {
   "cell_type": "markdown",
   "id": "6c02435e",
   "metadata": {},
   "source": [
    "### [문제] Managing Conversation History\n",
    "- trim_messages()\n",
    "- RunnablePassthrough\n",
    "- itemgetter()\n",
    "- 세션ID 설정하고 대화를 진행합니다(multi-turn conversation)\n",
    "- LLM 모델이 과거 대화를 기억하지 못하는 상황을 만드세요. "
   ]
  },
  {
   "cell_type": "code",
   "execution_count": 20,
   "id": "e002d1c7",
   "metadata": {},
   "outputs": [],
   "source": [
    "from langchain_openai import ChatOpenAI\n",
    "from langchain.callbacks.streaming_stdout import StreamingStdOutCallbackHandler\n",
    "from langchain_core.prompts import ChatPromptTemplate\n",
    "from langchain_core.chat_history import BaseChatMessageHistory, InMemoryChatMessageHistory\n",
    "from langchain_core.runnables.history import RunnableWithMessageHistory\n",
    "from langchain_core.runnables import RunnablePassthrough\n",
    "from langchain_core.messages import trim_messages\n",
    "from operator import itemgetter\n",
    "from dotenv import load_dotenv\n",
    "\n",
    "load_dotenv()\n",
    "\n",
    "model = ChatOpenAI(\n",
    "    model='gpt-4.1-nano',\n",
    "    streaming=True,\n",
    "    callbacks=[StreamingStdOutCallbackHandler()],\n",
    "    max_completion_tokens=500\n",
    "    )\n",
    "messages = [\n",
    "\t  ('system','''당신은 이력서 작성 컨설턴트입니다. \\n 아래 정보를 바탕으로 지원자 입장에서 1200자 이내로 이력서를 작성합니다.\n",
    "    문장은 자연스럽고 매끄럽게 작성합니다.'''),\n",
    "\t  ('placeholder','{chat_history}'),\n",
    "\t  ('user','{query}')\n",
    "    ]"
   ]
  },
  {
   "cell_type": "code",
   "execution_count": 22,
   "id": "0215ea49",
   "metadata": {},
   "outputs": [
    {
     "data": {
      "text/plain": [
       "RunnableAssign(mapper={\n",
       "  chat_history: RunnableLambda(itemgetter('chat_history'))\n",
       "                | RunnableLambda(...)\n",
       "})\n",
       "| ChatPromptTemplate(input_variables=['query'], optional_variables=['chat_history'], input_types={'chat_history': list[typing.Annotated[typing.Union[typing.Annotated[langchain_core.messages.ai.AIMessage, Tag(tag='ai')], typing.Annotated[langchain_core.messages.human.HumanMessage, Tag(tag='human')], typing.Annotated[langchain_core.messages.chat.ChatMessage, Tag(tag='chat')], typing.Annotated[langchain_core.messages.system.SystemMessage, Tag(tag='system')], typing.Annotated[langchain_core.messages.function.FunctionMessage, Tag(tag='function')], typing.Annotated[langchain_core.messages.tool.ToolMessage, Tag(tag='tool')], typing.Annotated[langchain_core.messages.ai.AIMessageChunk, Tag(tag='AIMessageChunk')], typing.Annotated[langchain_core.messages.human.HumanMessageChunk, Tag(tag='HumanMessageChunk')], typing.Annotated[langchain_core.messages.chat.ChatMessageChunk, Tag(tag='ChatMessageChunk')], typing.Annotated[langchain_core.messages.system.SystemMessageChunk, Tag(tag='SystemMessageChunk')], typing.Annotated[langchain_core.messages.function.FunctionMessageChunk, Tag(tag='FunctionMessageChunk')], typing.Annotated[langchain_core.messages.tool.ToolMessageChunk, Tag(tag='ToolMessageChunk')]], FieldInfo(annotation=NoneType, required=True, discriminator=Discriminator(discriminator=<function _get_type at 0x0000020A43C220C0>, custom_error_type=None, custom_error_message=None, custom_error_context=None))]]}, partial_variables={'chat_history': []}, messages=[SystemMessagePromptTemplate(prompt=PromptTemplate(input_variables=[], input_types={}, partial_variables={}, template='당신은 이력서 작성 컨설턴트입니다. \\n 아래 정보를 바탕으로 지원자 입장에서 1200자 이내로 이력서를 작성합니다.\\n    문장은 자연스럽고 매끄럽게 작성합니다.'), additional_kwargs={}), MessagesPlaceholder(variable_name='chat_history', optional=True), HumanMessagePromptTemplate(prompt=PromptTemplate(input_variables=['query'], input_types={}, partial_variables={}, template='{query}'), additional_kwargs={})])\n",
       "| ChatOpenAI(callbacks=[<langchain_core.callbacks.streaming_stdout.StreamingStdOutCallbackHandler object at 0x0000020A453D7230>], client=<openai.resources.chat.completions.completions.Completions object at 0x0000020A4732F5C0>, async_client=<openai.resources.chat.completions.completions.AsyncCompletions object at 0x0000020A472DF5C0>, root_client=<openai.OpenAI object at 0x0000020A472E07D0>, root_async_client=<openai.AsyncOpenAI object at 0x0000020A472E02D0>, model_name='gpt-4.1-nano', model_kwargs={}, openai_api_key=SecretStr('**********'), streaming=True, max_tokens=500)"
      ]
     },
     "execution_count": 22,
     "metadata": {},
     "output_type": "execute_result"
    }
   ],
   "source": [
    "prompt = ChatPromptTemplate.from_messages(messages)\n",
    "\n",
    "trimmer = trim_messages(\n",
    "    max_token = 70,\n",
    "    strategy = 'last',\n",
    "    token_counter = model,\n",
    "    include_system = True,\n",
    "    allow_partial = False,\n",
    "    start_on = 'human',    \n",
    ")\n",
    "\n",
    "chain =( RunnablePassthrough.assign(chat_history=itemgetter('chat_history') | trimmer)\n",
    "        | prompt\n",
    "        | model)\n",
    "\n",
    "chain"
   ]
  },
  {
   "cell_type": "code",
   "execution_count": 18,
   "id": "f8abbd0f",
   "metadata": {},
   "outputs": [
    {
     "name": "stdout",
     "output_type": "stream",
     "text": [
      "[이력서]\n",
      "\n",
      "지원자: 솔  \n",
      "경력: 신입  \n",
      "연락처: [휴대전화번호]  \n",
      "이메일: [이메일 주소]  \n",
      "\n",
      "개인소개서  \n",
      "저는 신입으로서 파이썬 프로그래밍과 최근 주목받는 대형 언어 모델(LLM) 및 랭체인(LangChain) 기술에 관심을 가지고 있습니다. 데이터를 다루고 분석하는 능력을 갖추었으며, 빠르게 변화하는 인공지능 분야에서 실무 역량을 쌓고자 열정을 가지고 있습니다. 문제 해결과 창의적 사고를 바탕으로 새로운 기술을 빠르게 습득하려 노력하며, 팀과 협력하여 목표를 달성하는 데에 적극적입니다.\n",
      "\n",
      "기술 역량  \n",
      "- 프로그래밍: 파이썬(기본 적 이해 및 활용 가능)  \n",
      "- 인공지능: 대형 언어 모델(LLM) 활용 및 이해  \n",
      "- 프레임워크 및 라이브러리: 랭체인(LangChain) 활용 경험\n",
      "\n",
      "학력 및 경력  \n",
      "- [학력 사항 입력: 학교명, 전공, 졸업 연도]  \n",
      "- 인턴 또는 프로젝트 경험이 있다면 간략히 기재 가능  \n",
      "\n",
      "자기개발 및 프로젝트 경험  \n",
      "저는 파이썬을 활용하여 간단한 데이터 분석 및 자동화 프로젝트 경험이 있으며, 온라인 강의 또는 스터디를 통해 LLM과 랭체인 기술에 대한 실습과 이해를 높여 왔습니다. 이를 통해 자연어 처리 및 AI 솔루션 개발에 대한 관심과 기본 역량을 쌓았습니다.\n",
      "\n",
      "포부  \n",
      "이번 기회를 통해 실제 업무 환경에서 최신 AI 기술을 적용하며 성장하고 싶습니다. 지속적인 학습과 팀워크를 통해 회사의 발전에 기여하는 인재가 되겠습니다.\n",
      "\n",
      "감사합니다.\n",
      " ==================================================\n",
      "당장 취업을 위해 준비해야 할 공부는 다음과 같이 정리할 수 있습니다.\n",
      "\n",
      "1. **파이썬 심화 학습**: 이미 기본 수준이지만, 실무에 바로 적용할 수 있도록 데이터 처리, 웹 크롤링, 자동화, API 활용 등 다양한 파이썬 기술을 익히는 것이 중요합니다. 특히, 데이터 분석 라이브러리(Numpy, Pandas, Matplotlib) 사용 능력을 키우세요.\n",
      "\n",
      "2. **인공지능 및 자연어 처리(NLP) 기초와 실습**: 대형 언어 모델(LLM)에 대한 이해를 높이기 위해, 자연어 처리의 기본 개념 및 최신 논문, 자료를 공부하세요. Hugging Face Transformers와 같은 라이브러리를 활용하여 모델을 호출하고 fine-tuning하는 실습도 병행하세요.\n",
      "\n",
      "3. **랭체인(LangChain) 활용 능력 강화**: 랭체인에 대한 공식 문서와 튜토리얼을 꼼꼼히 학습하여, 프로젝트 예제 실습을 통해 실무 감각을 높이세요. 구체적인 적용 예제나 프로젝트를 만들어 보면서 기술을 내 것으로 만드세요.\n",
      "\n",
      "4. **프로젝트 경험 쌓기**: 본인이 관심 있는 분야(예를 들어 챗봇, 문서 분석 등)를 정해서 간단한 프로젝트를 구현해보세요. 깃허브에 포트폴리오를 만들어 결과물을 보여줄 수 있도록 하십시오.\n",
      "\n",
      "5. **면접 준비 및 인강 강의 수강**: AI 관련 직무 면접 예상 질문과 답변을 준비하고, 온라인 강의를 통해 실무 팁과 최신 트렌드를 익히세요.\n",
      "\n",
      "6. **커뮤니티 참여 및 네트워킹**: 관련 온라인 커뮤니티, 깃허브, 포럼 등에 적극 참여하여 최신 정보를 습득하고, 실무자와 교류할 기회를 만드세요.\n",
      "\n",
      "이러한 공부를 체계적으로 진행하며, 실무 감각과 포트폴리오를 동시에 갖춘다면 취업 가능성을 높일 수 있습니다.\n",
      " ==================================================\n"
     ]
    }
   ],
   "source": [
    "store = {}\n",
    "\n",
    "def get_session_history(session_id:str) -> BaseChatMessageHistory:\n",
    "    if session_id not in store:\n",
    "        store[session_id] = InMemoryChatMessageHistory()\n",
    "    return store[session_id]\n",
    "\n",
    "\n",
    "wr_chain = RunnableWithMessageHistory(\n",
    "    chain,\n",
    "    get_session_history,\n",
    "    history_messages_key='chat_history',\n",
    "    input_messages_key='query'\n",
    ")\n",
    "\n",
    "while True:\n",
    "    query = input('질문을 입력하세요. 종료시 s입력')\n",
    "    if query.upper() == 'S':\n",
    "        break\n",
    "\n",
    "    wr_chain.invoke(\n",
    "        {'query': query },\n",
    "        config={'configurable':{'session_id':'ywgw'}}\n",
    "    )\n",
    "    print(f'\\n {'='*50}')\n",
    "    "
   ]
  },
  {
   "cell_type": "code",
   "execution_count": 8,
   "id": "acb7fb55",
   "metadata": {},
   "outputs": [
    {
     "data": {
      "text/plain": [
       "InMemoryChatMessageHistory(messages=[HumanMessage(content='\" 이름:솔라나, 나이:30, 경력:신입, 기술:파이썬, LLM\" 이 정보 바탕으로 500자 내로 이력서 작성해줘.', additional_kwargs={}, response_metadata={}), AIMessage(content='성명: 솔라나  \\n나이: 30세  \\n경력: 신입  \\n\\n저는 파이썬을 활용한 프로그래밍에 자신이 있으며, 최근 대형 언어 모델(LLM) 관련 프로젝트를 통해 자연어 처리와 인공지능 분야에 대한 폭넓은 지식을 쌓았습니다. 신입이지만, 빠른 학습 능력과 열정으로 다양한 기술을 습득하고 실무에 적용하는 데 적극적입니다. 특히 파이썬을 이용한 데이터 분석 및 모델링에 강하며, LLM을 활용한 텍스트 생성, 분류, 요약 등 프로젝트 경험을 통해 문제 해결 능력을 키웠습니다. 끊임없이 성장하고자 하는 자세로, 조직에 새로운 가치를 더하며 함께 발전하고 싶습니다.', additional_kwargs={}, response_metadata={'finish_reason': 'stop', 'model_name': 'gpt-4.1-nano-2025-04-14', 'system_fingerprint': 'fp_f12167b370'}, id='run--0d66ba2b-b33e-4941-a901-25c10f6fa6ee-0'), HumanMessage(content='내가 더 공부해야할 부분에 대해  짧게 알려줘.', additional_kwargs={}, response_metadata={}), AIMessage(content='파이썬 기반의 딥러닝 프레임워크(예: TensorFlow, PyTorch)에 대한 이해를 높이고, 자연어 처리(NLP) 분야의 최신 연구와 기술 동향을 지속적으로 학습하는 것이 좋겠습니다. 또한, 데이터 전처리와 모델 최적화, 배포 관련 기술도 함께 공부하면 실무에 더 큰 도움이 될 것입니다.', additional_kwargs={}, response_metadata={'finish_reason': 'stop', 'model_name': 'gpt-4.1-nano-2025-04-14', 'system_fingerprint': 'fp_f12167b370'}, id='run--ea72a9f4-cbe9-45b4-bcc6-c3a314c633ac-0')])"
      ]
     },
     "execution_count": 8,
     "metadata": {},
     "output_type": "execute_result"
    }
   ],
   "source": [
    "get_session_history('ywgw')"
   ]
  },
  {
   "cell_type": "code",
   "execution_count": 11,
   "id": "d3fe1fcd",
   "metadata": {},
   "outputs": [],
   "source": [
    "messages_list = get_session_history('ywgw').messages"
   ]
  },
  {
   "cell_type": "code",
   "execution_count": 13,
   "id": "14ba7caf",
   "metadata": {},
   "outputs": [
    {
     "name": "stdout",
     "output_type": "stream",
     "text": [
      "['HUMAN'] \" 이름:솔라나, 나이:30, 경력:신입, 기술:파이썬, LLM\" 이 정보 바탕으로 500자 내로 이력서 작성해줘.\n",
      "['AI'] 성명: 솔라나  \n",
      "나이: 30세  \n",
      "경력: 신입  \n",
      "\n",
      "저는 파이썬을 활용한 프로그래밍에 자신이 있으며, 최근 대형 언어 모델(LLM) 관련 프로젝트를 통해 자연어 처리와 인공지능 분야에 대한 폭넓은 지식을 쌓았습니다. 신입이지만, 빠른 학습 능력과 열정으로 다양한 기술을 습득하고 실무에 적용하는 데 적극적입니다. 특히 파이썬을 이용한 데이터 분석 및 모델링에 강하며, LLM을 활용한 텍스트 생성, 분류, 요약 등 프로젝트 경험을 통해 문제 해결 능력을 키웠습니다. 끊임없이 성장하고자 하는 자세로, 조직에 새로운 가치를 더하며 함께 발전하고 싶습니다.\n",
      "['HUMAN'] 내가 더 공부해야할 부분에 대해  짧게 알려줘.\n",
      "['AI'] 파이썬 기반의 딥러닝 프레임워크(예: TensorFlow, PyTorch)에 대한 이해를 높이고, 자연어 처리(NLP) 분야의 최신 연구와 기술 동향을 지속적으로 학습하는 것이 좋겠습니다. 또한, 데이터 전처리와 모델 최적화, 배포 관련 기술도 함께 공부하면 실무에 더 큰 도움이 될 것입니다.\n"
     ]
    }
   ],
   "source": [
    "for m in messages_list:\n",
    "    print([m.type.upper()],m.content)"
   ]
  },
  {
   "cell_type": "code",
   "execution_count": 14,
   "id": "c93311d4",
   "metadata": {},
   "outputs": [
    {
     "data": {
      "text/plain": [
       "{'ywgw': InMemoryChatMessageHistory(messages=[HumanMessage(content='\" 이름:솔라나, 나이:30, 경력:신입, 기술:파이썬, LLM\" 이 정보 바탕으로 500자 내로 이력서 작성해줘.', additional_kwargs={}, response_metadata={}), AIMessage(content='성명: 솔라나  \\n나이: 30세  \\n경력: 신입  \\n\\n저는 파이썬을 활용한 프로그래밍에 자신이 있으며, 최근 대형 언어 모델(LLM) 관련 프로젝트를 통해 자연어 처리와 인공지능 분야에 대한 폭넓은 지식을 쌓았습니다. 신입이지만, 빠른 학습 능력과 열정으로 다양한 기술을 습득하고 실무에 적용하는 데 적극적입니다. 특히 파이썬을 이용한 데이터 분석 및 모델링에 강하며, LLM을 활용한 텍스트 생성, 분류, 요약 등 프로젝트 경험을 통해 문제 해결 능력을 키웠습니다. 끊임없이 성장하고자 하는 자세로, 조직에 새로운 가치를 더하며 함께 발전하고 싶습니다.', additional_kwargs={}, response_metadata={'finish_reason': 'stop', 'model_name': 'gpt-4.1-nano-2025-04-14', 'system_fingerprint': 'fp_f12167b370'}, id='run--0d66ba2b-b33e-4941-a901-25c10f6fa6ee-0'), HumanMessage(content='내가 더 공부해야할 부분에 대해  짧게 알려줘.', additional_kwargs={}, response_metadata={}), AIMessage(content='파이썬 기반의 딥러닝 프레임워크(예: TensorFlow, PyTorch)에 대한 이해를 높이고, 자연어 처리(NLP) 분야의 최신 연구와 기술 동향을 지속적으로 학습하는 것이 좋겠습니다. 또한, 데이터 전처리와 모델 최적화, 배포 관련 기술도 함께 공부하면 실무에 더 큰 도움이 될 것입니다.', additional_kwargs={}, response_metadata={'finish_reason': 'stop', 'model_name': 'gpt-4.1-nano-2025-04-14', 'system_fingerprint': 'fp_f12167b370'}, id='run--ea72a9f4-cbe9-45b4-bcc6-c3a314c633ac-0')])}"
      ]
     },
     "execution_count": 14,
     "metadata": {},
     "output_type": "execute_result"
    }
   ],
   "source": [
    "store"
   ]
  },
  {
   "cell_type": "code",
   "execution_count": 15,
   "id": "34daf2b8",
   "metadata": {},
   "outputs": [
    {
     "data": {
      "text/plain": [
       "1"
      ]
     },
     "execution_count": 15,
     "metadata": {},
     "output_type": "execute_result"
    }
   ],
   "source": [
    "len(store)"
   ]
  },
  {
   "cell_type": "code",
   "execution_count": null,
   "id": "0137f759",
   "metadata": {},
   "outputs": [],
   "source": []
  },
  {
   "cell_type": "code",
   "execution_count": null,
   "id": "889b3245",
   "metadata": {},
   "outputs": [],
   "source": []
  }
 ],
 "metadata": {
  "kernelspec": {
   "display_name": "project",
   "language": "python",
   "name": "python3"
  },
  "language_info": {
   "codemirror_mode": {
    "name": "ipython",
    "version": 3
   },
   "file_extension": ".py",
   "mimetype": "text/x-python",
   "name": "python",
   "nbconvert_exporter": "python",
   "pygments_lexer": "ipython3",
   "version": "3.13.2"
  }
 },
 "nbformat": 4,
 "nbformat_minor": 5
}
