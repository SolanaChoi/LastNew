{
 "cells": [
  {
   "cell_type": "markdown",
   "id": "7be5eb59",
   "metadata": {},
   "source": [
    "# [chatbot]\n",
    "- 참조: https://python.langchain.com/v0.2/docs/tutorials/chatbot/ \t\n"
   ]
  },
  {
   "cell_type": "markdown",
   "id": "cf15cb11",
   "metadata": {},
   "source": [
    "## [Quickstart]\n"
   ]
  },
  {
   "cell_type": "code",
   "execution_count": 3,
   "id": "9bab2035",
   "metadata": {},
   "outputs": [
    {
     "data": {
      "text/plain": [
       "\"Hi Solana! It's nice to meet you. How are you doing today?\""
      ]
     },
     "execution_count": 3,
     "metadata": {},
     "output_type": "execute_result"
    }
   ],
   "source": [
    "from langchain_openai import ChatOpenAI\n",
    "from langchain_core.messages import HumanMessage\n",
    "from langchain_core.messages import AIMessage\n",
    "from langchain_core.chat_history import(BaseChatMessageHistory, InMemoryChatMessageHistory)\n",
    "from langchain_core.runnables.history import RunnableWithMessageHistory\n",
    "from dotenv import load_dotenv\n",
    "\n",
    "load_dotenv()\n",
    "\n",
    "model = ChatOpenAI(model='gpt-3.5-turbo')\n",
    "\n",
    "answer = model.invoke([HumanMessage(content=\"Hi. I'm Solana..!\")])\n",
    "answer.content"
   ]
  },
  {
   "cell_type": "code",
   "execution_count": 4,
   "id": "17f6eb1d",
   "metadata": {},
   "outputs": [
    {
     "data": {
      "text/plain": [
       "\"I'm sorry, but I cannot determine your name as I am an AI digital assistant and do not have access to personal information.\""
      ]
     },
     "execution_count": 4,
     "metadata": {},
     "output_type": "execute_result"
    }
   ],
   "source": [
    "answer02 = model.invoke([HumanMessage(content=\"What is my name?..!\")])\n",
    "answer02.content"
   ]
  },
  {
   "cell_type": "code",
   "execution_count": 5,
   "id": "5015c5bb",
   "metadata": {},
   "outputs": [
    {
     "data": {
      "text/plain": [
       "'Alright then! Have a great day, Solana!'"
      ]
     },
     "execution_count": 5,
     "metadata": {},
     "output_type": "execute_result"
    }
   ],
   "source": [
    "answer03 = model.invoke([\n",
    "    HumanMessage(content='Hi~ I am Solana~'),\n",
    "\t\tAIMessage(content='Hello Bob! How can I assist you today? '),\n",
    "    HumanMessage(content='Nothing!'),\n",
    "\t  ])\n",
    "\n",
    "answer03.content"
   ]
  },
  {
   "cell_type": "markdown",
   "id": "90370c28",
   "metadata": {},
   "source": [
    "## [Message History]"
   ]
  },
  {
   "cell_type": "code",
   "execution_count": 6,
   "id": "584029db",
   "metadata": {},
   "outputs": [
    {
     "data": {
      "text/plain": [
       "'Hello Solana! How are you doing today?'"
      ]
     },
     "execution_count": 6,
     "metadata": {},
     "output_type": "execute_result"
    }
   ],
   "source": [
    "\n",
    "from langchain_core.runnables.history import RunnableWithMessageHistory\n",
    "\n",
    "store = {}\n",
    "\n",
    "def get_session_history(session_id:str) -> BaseChatMessageHistory:\n",
    "\tif session_id not in store:\n",
    "\t\tstore[session_id] = InMemoryChatMessageHistory()\t\n",
    "    \n",
    "\treturn store[session_id]\n",
    "\n",
    "with_message_history = RunnableWithMessageHistory(\n",
    "    model, \n",
    "    get_session_history\n",
    "    )\n",
    "\n",
    "config = {'configurable':{'session_id':'abc1'}}\n",
    "\n",
    "resopnse = with_message_history.invoke(\n",
    "    [HumanMessage(content='Hi! I am Solana')],\n",
    "\tconfig=config,\n",
    ")\n",
    "\n",
    "resopnse.content"
   ]
  },
  {
   "cell_type": "code",
   "execution_count": 7,
   "id": "b0b7c95b",
   "metadata": {},
   "outputs": [
    {
     "data": {
      "text/plain": [
       "'Your name is Solana.'"
      ]
     },
     "execution_count": 7,
     "metadata": {},
     "output_type": "execute_result"
    }
   ],
   "source": [
    "resopnse = with_message_history.invoke(\n",
    "    [HumanMessage(content='What is my name?')],\n",
    "\tconfig=config,\n",
    ")\n",
    "\n",
    "resopnse.content"
   ]
  },
  {
   "cell_type": "code",
   "execution_count": 8,
   "id": "26500667",
   "metadata": {},
   "outputs": [
    {
     "data": {
      "text/plain": [
       "\"I'm sorry, I don't have access to that information.\""
      ]
     },
     "execution_count": 8,
     "metadata": {},
     "output_type": "execute_result"
    }
   ],
   "source": [
    "# 새로운 id 대화 생성\n",
    "config = {\"configurable\":{\"session_id\":\"1004\"}}\n",
    "\n",
    "resopnse = with_message_history.invoke(\n",
    "    [HumanMessage(content='what is my name?')],\n",
    "    config=config\n",
    "    )\n",
    "\n",
    "resopnse.content"
   ]
  },
  {
   "cell_type": "markdown",
   "id": "44262452",
   "metadata": {},
   "source": [
    "---"
   ]
  },
  {
   "cell_type": "markdown",
   "id": "11d2f2a9",
   "metadata": {},
   "source": [
    "## [Prompt templates] - MessagePlaceholder"
   ]
  },
  {
   "cell_type": "code",
   "execution_count": 9,
   "id": "da6e9ec5",
   "metadata": {},
   "outputs": [
    {
     "data": {
      "text/plain": [
       "'Hello, Rachel! How can I assist you today?'"
      ]
     },
     "execution_count": 9,
     "metadata": {},
     "output_type": "execute_result"
    }
   ],
   "source": [
    "from langchain_core.prompts import ChatPromptTemplate, MessagesPlaceholder\n",
    "\n",
    "prompt = ChatPromptTemplate.from_messages(\n",
    "    [('system','you are a helpful assistant. Answer all questions to the best of your ability.'),\n",
    "    MessagesPlaceholder('messages'),]   #원래 이 곳엔 history가 와야함\n",
    ")\n",
    "\n",
    "chain = prompt | model\n",
    " \n",
    "resopnse = chain.invoke({'messages':[HumanMessage(content='Hi~ I am Rachel')]})\n",
    "resopnse.content"
   ]
  },
  {
   "cell_type": "code",
   "execution_count": 10,
   "id": "1d1d2663",
   "metadata": {},
   "outputs": [
    {
     "data": {
      "text/plain": [
       "'Hello Rachel! How can I assist you today?'"
      ]
     },
     "execution_count": 10,
     "metadata": {},
     "output_type": "execute_result"
    }
   ],
   "source": [
    "with_message_history = RunnableWithMessageHistory(\n",
    "    chain, \n",
    "    get_session_history\n",
    "    )\n",
    "\n",
    "config = {'configurable':{'session_id':'abc5'}}\n",
    "\n",
    "resopnse = with_message_history.invoke(\n",
    "    [HumanMessage(content='Hello, I am Rachel.')],\n",
    "\tconfig=config\n",
    ")\n",
    "\n",
    "resopnse.content"
   ]
  },
  {
   "cell_type": "code",
   "execution_count": 11,
   "id": "98e56de7",
   "metadata": {},
   "outputs": [
    {
     "data": {
      "text/plain": [
       "'Your name is Rachel.'"
      ]
     },
     "execution_count": 11,
     "metadata": {},
     "output_type": "execute_result"
    }
   ],
   "source": [
    "resopnse = with_message_history.invoke(\n",
    "    [HumanMessage(content='What is my name???')],\n",
    "\tconfig=config\n",
    ")\n",
    "\n",
    "resopnse.content"
   ]
  },
  {
   "cell_type": "code",
   "execution_count": 12,
   "id": "2505360e",
   "metadata": {},
   "outputs": [
    {
     "name": "stdout",
     "output_type": "stream",
     "text": [
      "['HUMAN'] Hello, I am Rachel.\n",
      "['AI'] Hello Rachel! How can I assist you today?\n",
      "['HUMAN'] What is my name???\n",
      "['AI'] Your name is Rachel.\n"
     ]
    }
   ],
   "source": [
    "for m in get_session_history('abc5').messages:\n",
    "    print([m.type.upper()], m.content)"
   ]
  },
  {
   "cell_type": "markdown",
   "id": "f1f856b4",
   "metadata": {},
   "source": [
    "프롬프트를 좀 더 복잡하게 만들어보자. 프롬프트 템플릿이 다음과 같다고 가정."
   ]
  },
  {
   "cell_type": "code",
   "execution_count": 13,
   "id": "12d487ed",
   "metadata": {},
   "outputs": [
    {
     "data": {
      "text/plain": [
       "'¡Hola Todd! ¿En qué puedo ayudarte hoy?'"
      ]
     },
     "execution_count": 13,
     "metadata": {},
     "output_type": "execute_result"
    }
   ],
   "source": [
    "prompt = ChatPromptTemplate.from_messages([\n",
    "        (\"system\", \"You are a helpful assistant. Answer in the language specified: {language}.\"),\n",
    "        MessagesPlaceholder(\"messages\"),\n",
    "    ])\n",
    "\n",
    "chain = prompt | model    #ChatPromptTemplate(input_variables=['language', 'messages'], input_types={'messages': list })\n",
    "\n",
    "# 이 복잡한 체인을 Message History 클래스로 래핑. (입력에 여러 키가 있으므로 채팅 기록을 저장 시 사용할 올바른 키를 지정해야함)\n",
    "\n",
    "with_message_history = RunnableWithMessageHistory(\n",
    "    chain,\n",
    "    get_session_history,     #저장은 되지만 프롬프트에 넣지 못함 \n",
    "    # history_messages_key='messages'   ===>원래 이렇게 인풋메시지키는 인풋으로 해줬음  \n",
    "    input_messages_key='messages'\n",
    ")\n",
    "\n",
    "config = {'configurable':{'session_id':'abc11'}}\n",
    "\n",
    "resopnse = with_message_history.invoke(\n",
    "    {'messages':[HumanMessage(content='hi, i am Todd')], 'language':'Spanish'},\n",
    "    config=config\n",
    "    \n",
    ")\n",
    "\n",
    "resopnse.content"
   ]
  },
  {
   "cell_type": "code",
   "execution_count": 14,
   "id": "e7fbec30",
   "metadata": {},
   "outputs": [
    {
     "data": {
      "text/plain": [
       "'あなたの名前はトッドさんです。'"
      ]
     },
     "execution_count": 14,
     "metadata": {},
     "output_type": "execute_result"
    }
   ],
   "source": [
    "resopnse = with_message_history.invoke(\n",
    "    {'messages':[HumanMessage(content='What is my name?')], 'language':'Japanese'},\n",
    "    config=config\n",
    ")\n",
    "resopnse.content"
   ]
  },
  {
   "cell_type": "markdown",
   "id": "276cf701",
   "metadata": {},
   "source": [
    "---"
   ]
  },
  {
   "cell_type": "markdown",
   "id": "2f1d303c",
   "metadata": {},
   "source": [
    "## [Managing Conversation History]"
   ]
  },
  {
   "cell_type": "code",
   "execution_count": 15,
   "id": "7ecce998",
   "metadata": {},
   "outputs": [
    {
     "data": {
      "text/plain": [
       "[SystemMessage(content='You are a good psychological counselor.', additional_kwargs={}, response_metadata={}),\n",
       " HumanMessage(content='whats 2 + 2', additional_kwargs={}, response_metadata={}),\n",
       " AIMessage(content='4', additional_kwargs={}, response_metadata={}),\n",
       " HumanMessage(content='thanks', additional_kwargs={}, response_metadata={}),\n",
       " AIMessage(content='no problem!', additional_kwargs={}, response_metadata={}),\n",
       " HumanMessage(content='having fun?', additional_kwargs={}, response_metadata={}),\n",
       " AIMessage(content='yes!', additional_kwargs={}, response_metadata={})]"
      ]
     },
     "execution_count": 15,
     "metadata": {},
     "output_type": "execute_result"
    }
   ],
   "source": [
    "from langchain_core.messages import trim_messages, SystemMessage\n",
    "\n",
    "trimmer = trim_messages(\n",
    "    max_tokens=65,\n",
    "    strategy='last',\n",
    "    token_counter=model,\n",
    "    include_system=True,\n",
    "    allow_partial=False,\n",
    "    start_on=\"human\",   \n",
    ")\n",
    "\n",
    "messages = [\n",
    "    SystemMessage(content='You are a good psychological counselor.'),\n",
    "    HumanMessage(content='Hi! I am Ruel'),\n",
    "    AIMessage(content='Hi'),\n",
    "    HumanMessage(content=\"I like chocolate ice cream\"),\n",
    "    AIMessage(content=\"nice\"),\n",
    "    HumanMessage(content=\"whats 2 + 2\"),\n",
    "    AIMessage(content=\"4\"),\n",
    "    HumanMessage(content=\"thanks\"),\n",
    "    AIMessage(content=\"no problem!\"),\n",
    "    HumanMessage(content=\"having fun?\"),\n",
    "    AIMessage(content=\"yes!\"),\n",
    "]\n",
    "\n",
    "trimmer.invoke(messages)"
   ]
  },
  {
   "cell_type": "code",
   "execution_count": 16,
   "id": "f7551e65",
   "metadata": {},
   "outputs": [
    {
     "data": {
      "text/plain": [
       "'죄송합니다, 제가 이름을 알고있는 것은 아니지만, 제가 도울 수 있는 다른 질문이 있으면 언제든 물어봐 주세요!'"
      ]
     },
     "execution_count": 16,
     "metadata": {},
     "output_type": "execute_result"
    }
   ],
   "source": [
    "from operator import itemgetter\n",
    "from langchain_core.runnables import RunnablePassthrough\n",
    "\n",
    "# cf) 이전의 chain : chain = prompt | model \n",
    "\n",
    "chain = ( \n",
    "    RunnablePassthrough.assign(messages=itemgetter('messages') | trimmer)             #===>assign: message에 itemgetter('message')|trimmer의 값을 할당해줌. \n",
    "\t  | prompt\n",
    "    | model \n",
    "    )\n",
    "\n",
    "resopnse = chain.invoke({\n",
    "    'messages': messages + [HumanMessage(content='내 이름이 뭐였니?')], \n",
    "    'language': 'Korean',\n",
    "    })\n",
    "\n",
    "resopnse\n",
    "resopnse.content"
   ]
  },
  {
   "cell_type": "code",
   "execution_count": 17,
   "id": "c243bc6c",
   "metadata": {},
   "outputs": [
    {
     "data": {
      "text/plain": [
       "'미안하지만 질문을 기억하지 않아서 도와드리기 어렵습니다. 어떤 수학 문제에 대해 물어보셨나요? 부탁드립니다.'"
      ]
     },
     "execution_count": 17,
     "metadata": {},
     "output_type": "execute_result"
    }
   ],
   "source": [
    "resopnse = chain.invoke(\n",
    "    {\n",
    "        \"messages\": messages + [HumanMessage(content='What math problem did i ask?')],\n",
    "\t\t\"language\": \"Korean\",\n",
    "\t}\n",
    ")\n",
    "\n",
    "resopnse.content"
   ]
  },
  {
   "cell_type": "code",
   "execution_count": 18,
   "id": "46e4f2a4",
   "metadata": {},
   "outputs": [
    {
     "data": {
      "text/plain": [
       "\"I'm sorry, but I am unable to determine your name as I do not have access to that information. How can I assist you further?\""
      ]
     },
     "execution_count": 18,
     "metadata": {},
     "output_type": "execute_result"
    }
   ],
   "source": [
    "with_message_history = RunnableWithMessageHistory(\n",
    "    chain, \n",
    "    get_session_history,\n",
    "    input_messages_key='messages',\n",
    ")\n",
    "\n",
    "config = {'configurable':{'session_id':'abc20'}}\n",
    "\n",
    "resopnse = with_message_history.invoke(\n",
    "    {\n",
    "    'messages': messages + [HumanMessage(content='What is my name?')],\n",
    "    'language':'Korean',\n",
    "    },\n",
    "    config=config,\n",
    ")\n",
    "\n",
    "resopnse.content"
   ]
  },
  {
   "cell_type": "code",
   "execution_count": 19,
   "id": "c04d53a7",
   "metadata": {},
   "outputs": [
    {
     "name": "stdout",
     "output_type": "stream",
     "text": [
      "[SYSTEM]:You are a good psychological counselor.\n",
      "[HUMAN]:Hi! I am Ruel\n",
      "[AI]:Hi\n",
      "[HUMAN]:I like chocolate ice cream\n",
      "[AI]:nice\n",
      "[HUMAN]:whats 2 + 2\n",
      "[AI]:4\n",
      "[HUMAN]:thanks\n",
      "[AI]:no problem!\n",
      "[HUMAN]:having fun?\n",
      "[AI]:yes!\n",
      "[HUMAN]:What is my name?\n",
      "[AI]:I'm sorry, but I am unable to determine your name as I do not have access to that information. How can I assist you further?\n"
     ]
    }
   ],
   "source": [
    "for message in get_session_history('abc20').messages:\n",
    "    print(f'[{message.type.upper()}]:{message.content}')"
   ]
  },
  {
   "cell_type": "code",
   "execution_count": 20,
   "id": "3a9b8515",
   "metadata": {},
   "outputs": [
    {
     "data": {
      "text/plain": [
       "\"You didn't ask a specific math problem. How can I assist you with math today?\""
      ]
     },
     "execution_count": 20,
     "metadata": {},
     "output_type": "execute_result"
    }
   ],
   "source": [
    "response = with_message_history.invoke(\n",
    "    {\n",
    "        \"messages\": [HumanMessage(content=\"what math problem did i ask?\")],\n",
    "        \"language\": \"English\",\n",
    "    },\n",
    "    config=config,\n",
    ")\n",
    "\n",
    "response.content"
   ]
  },
  {
   "cell_type": "code",
   "execution_count": 22,
   "id": "a25ec841",
   "metadata": {},
   "outputs": [
    {
     "name": "stdout",
     "output_type": "stream",
     "text": [
      "|Sure|,| Sol|!| Here|'s| a| joke| for| you|:| Why| did| the| scare|crow| win| an| award|?| Because| he| was| outstanding| in| his| field|!| 😄||"
     ]
    }
   ],
   "source": [
    "config = {\"configurable\":{\"session_id\":\"abc15\"}}\n",
    "for r in with_message_history.stream(\n",
    "    {'messages':[HumanMessage(content='Hi I am Sol. Tell me a joke!')],\n",
    "    'language':'English'},\n",
    "    config=config\n",
    "):\n",
    "    print(r.content, end='|')"
   ]
  }
 ],
 "metadata": {
  "kernelspec": {
   "display_name": "project",
   "language": "python",
   "name": "python3"
  },
  "language_info": {
   "codemirror_mode": {
    "name": "ipython",
    "version": 3
   },
   "file_extension": ".py",
   "mimetype": "text/x-python",
   "name": "python",
   "nbconvert_exporter": "python",
   "pygments_lexer": "ipython3",
   "version": "3.13.2"
  }
 },
 "nbformat": 4,
 "nbformat_minor": 5
}
